{
 "cells": [
  {
   "cell_type": "markdown",
   "id": "2a261c78",
   "metadata": {},
   "source": [
    "# Mandelbrotmengen"
   ]
  },
  {
   "cell_type": "markdown",
   "id": "7c2e9d5a",
   "metadata": {},
   "source": [
    "In dieser Fallstudie implementieren wir die berühmten Visualisierungen der Mandelbrotmengen, die Sie sicher bereits gesehen haben. Die Mandelbrotmenge geht auf den Mathematiker Benoit Mandelbrot zurück, welcher neben vielen anderen Dingen auch die Geometrie von Fraktalen studiert hat. \n",
    "\n",
    "Wie wir sehen werden, ist die Berechnung einer Mandelbrotmenge etwas ganz einfaches. Wir betrachten für eine Zahl $\\mathtt z$ und eine Konstante $\\mathtt c$ die Funktion $f_c(\\mathtt z)=\\mathtt z^2 + \\mathtt c$. Wir können diese Funktion, beginnend bei 0, immer wieder auf sich selber anwenden, wir berechnen also die Folge der Elemente $\\mathtt s_i$ wie folgt\n",
    "\n",
    "$\n",
    "\\begin{align}\n",
    "& \\mathtt s_0 = \\mathtt 0 \\\\\n",
    "& \\mathtt s_1 = f_c(\\mathtt 0) = f_c(\\mathtt s_0 )\\\\\n",
    "& \\mathtt s_2 = f_c(f_c(\\mathtt 0)) = f_c(\\mathtt s_1 )\\\\\n",
    "& \\mathtt s_3 = f_c(f_c(f_c(\\mathtt 0))) = f_c(\\mathtt s_2 )\\\\\n",
    "& \\vdots \\\\\n",
    "& \\mathtt s_{n+1} = f_c(\\mathtt s_n)\n",
    "\\end{align}\n",
    "$\n",
    "\n",
    "Wenn diese Funktion nach einer bestimmten Anzahl Anwendungen kleiner als eine bestimmte Zahl ist (mathematisch als *nicht divergiert* bezeichnet), dann ist die Zahl $\\mathtt c$ Teil der Mandelbrotmenge. Wie wir sehen werden, entspricht diese Berechnung einer einfachen While-Schleife."
   ]
  },
  {
   "cell_type": "code",
   "execution_count": null,
   "id": "addbf61b",
   "metadata": {},
   "outputs": [],
   "source": []
  },
  {
   "cell_type": "markdown",
   "id": "c4d6c745",
   "metadata": {},
   "source": [
    "#### Komplexe Zahlen\n",
    "\n",
    "Es gibt jedoch noch eine kleine Besonderheit: Die Zahlen $\\mathtt c$ und $\\mathtt z$ sind keine \"normalen\" Zahlen, wie wir sie aus der Schule kennen, sondern sogenannte *komplexe Zahlen*. In dieser Fallstudie werden wir eine Klasse schreiben um komplexe Zahlen zu repräsentieren.\n",
    "\n",
    "Komplexe Zahlen bestehen aus zwei Teilen, einem Realteil und einem Imaginärteil. In Büchern wird der Imaginärteil meist durch ein $i$ gekennzeichnet. So ist zum Beispiel 2 + 3i eine Komplexe Zahl, die aus dem Realteil 2 und dem Imaginärteil 3 besteht. Wir können uns eine Komplexe Zahl aber einfach als Tupel $(a, b)$ bestehend aus zwei Zahlen vorstellen, auf dem wir dann spezielle Rechenregeln definieren.  \n",
    "\n",
    "Zwei komplexe Zahlen $\\mathtt x$ und $\\mathtt y$ werden nach folgenden Regeln addiert und multipliziert:\n",
    "\n",
    "$\n",
    "\\begin{align}\n",
    "& \\mathtt x = (a, b) \\\\\n",
    "& \\mathtt y = (c, d) \\\\\n",
    "& \\mathtt x + \\mathtt y = (a + c, b + d) \\\\\n",
    "& \\mathtt x \\cdot \\mathtt y = (a c - b d, a d + b c)\n",
    "\\end{align}\n",
    "$\n",
    "\n",
    "Als letzte Operation benötigen wir noch den Betrag einer Zahl. Dieser ist definiert als \n",
    "\n",
    "$\n",
    "\\text{abs}(\\mathtt x) = \\sqrt{a a + b b}.\n",
    "$\n",
    "\n",
    "Einmal mehr brauchen wir für die Umsetzung der Mathematik und alle nötigen Berechnungen nicht mehr als Addition, Multiplikation, Subtraktion sowie die Quadratwurzel."
   ]
  },
  {
   "cell_type": "markdown",
   "id": "493bd575",
   "metadata": {},
   "source": [
    "### Implementation komplexer Zahlen\n",
    "\n",
    "In einem ersten Schritt schaffen wir uns nun die Grundlagen, so dass wir die Mathematische Funktion möglichst einfach implementieren können. Wir werden die Repräsentation von komplexen Zahlen und die oben beschriebenen Operationen darauf implementieren.\n",
    "\n",
    "Wir definieren uns dazu eine Klasse. Diese speichert den Real-  und den Imaginäranteil der Zahl als Attribute `real` und `imag` der Klasse. Die Operationen ```add```, ```multiply``` und ```abs``` implementieren wir als Methoden. "
   ]
  },
  {
   "cell_type": "code",
   "execution_count": null,
   "id": "4cd609be",
   "metadata": {},
   "outputs": [],
   "source": [
    "import math\n",
    "\n",
    "class Complex:\n",
    "    pass\n"
   ]
  },
  {
   "cell_type": "markdown",
   "id": "7367bcd4",
   "metadata": {},
   "source": [
    "## Berechnung der Mandelbrotmenge\n",
    "\n",
    "Nun können wir die Mandelbrotmenge berechnen. Die Funktion ```compute_mandelbrot``` nimmt eine Zahl $\\mathtt c$ entgegen und berechnet wie oben angegeben die Folge der Funktionen $\\mathtt s_0 \\rightarrow \\mathtt s_1 \\rightarrow \\mathtt s_2 \\rightarrow \\cdots$. Wenn der Betrag der so berechneten Zahl einmal grösser als die Zahl 2 ist, dann sagen wir, dass die Folge divergiert und die Zahl $\\mathtt c$ somit nicht in der Mandelbrotmenge ist. \n",
    "\n",
    "Neben der Zahl $\\mathtt c$ geben wir als zweites Argument noch ```max_iterations``` mit. Dieses Argument gibt an, wie lange wir die Funktion maximal immer wieder auf sich selbst anwenden, bevor wir entscheiden, dass diese divergiert oder nicht. Wenn der Betrag der Zahl also während ```max_iterations``` Iterationen immer kleiner als 2 bleibt, dann entscheiden wir, dass die Zahl Teil der Mandelbrotmenge ist. \n",
    "\n",
    "Der Rückgabewert wäre entsprechend entweder ```True``` oder ```False``` je nachdem ob die Zahl $\\mathtt c$ Teil der Menge ist. Für die Visualisierung ist es aber schöner, wenn wir die Anzahl Iterationen zurückgeben, die wir berechnet haben, bevor der Betrag der berechneten Zahl das erste Mal grösser als 2 geworden ist. So können wir dann mit unterschiedlichen Farben veranschaulichen, welche Zahl wie schnell divergiert ist. "
   ]
  },
  {
   "cell_type": "code",
   "execution_count": null,
   "id": "3b599081",
   "metadata": {},
   "outputs": [],
   "source": [
    "def compute_mandelbrot(c, max_iterations):\n",
    "    pass"
   ]
  },
  {
   "cell_type": "markdown",
   "id": "bf13b241",
   "metadata": {},
   "source": [
    "### Visualisierung der Mandelbrotmenge"
   ]
  },
  {
   "cell_type": "markdown",
   "id": "94bda686",
   "metadata": {},
   "source": [
    "Für die Visualisierung der Mandelbrotmenge nutzen wir wieder ```PyPlot```. "
   ]
  },
  {
   "cell_type": "code",
   "execution_count": null,
   "id": "13c61d77",
   "metadata": {},
   "outputs": [],
   "source": [
    "from matplotlib.pyplot import *"
   ]
  },
  {
   "cell_type": "markdown",
   "id": "22d0212a",
   "metadata": {},
   "source": [
    "Als erstes erstellen wir uns ein Bild mit $m \\times n$ Pixeln. Wie immer stellen wir das als Liste von Listen dar. "
   ]
  },
  {
   "cell_type": "code",
   "execution_count": null,
   "id": "30e24320",
   "metadata": {},
   "outputs": [],
   "source": [
    "def create_image(m, n):\n",
    "    image = []\n",
    "    for i in range(0, m):\n",
    "        image.append([0] * n)\n",
    "    return image"
   ]
  },
  {
   "cell_type": "markdown",
   "id": "57097149",
   "metadata": {},
   "source": [
    "Jeder Pixel im Bild entspricht einer Komplexen Zahl $\\mathtt c$. Das einfachste wäre, wenn der Pixel $(0,0)$ der komplexen Zahl $0 + 0i$ entsprechen würde, der Pixel $(1, 0)$ der komplexen Zahl $1 + 0i$, und so weiter. Wenn wir ein Bild mit $m \\times n$ Pixeln haben, würden wir also den rechteckigen Ausschnitt von $0 + 0i$  bis $m + ni$ visualisieren. \n",
    "\n",
    "Jedoch stellt sich heraus, dass dieser Teil der Mandelbrotmenge nicht sonderlich spannend ist. Deshalb führen wir eine Funktion ein, die uns erlaubt in beliebige Teile der Menge hinein zu zoomen. Dies machen wir, indem wir jeden Index skalieren und verschieben. "
   ]
  },
  {
   "cell_type": "code",
   "execution_count": null,
   "id": "0febfc74",
   "metadata": {},
   "outputs": [],
   "source": [
    "def pixel_to_complex_num(i, j, scaling, pan_x, pan_y):\n",
    "    return Complex(i * scaling + pan_x, (j * scaling + pan_y))"
   ]
  },
  {
   "cell_type": "markdown",
   "id": "61e7c744",
   "metadata": {},
   "source": [
    "Für die Visualisierung iterieren wir einfach über jeden Pixel des Bildes, wandeln dieses in eine Komplexe Zahl um und geben diesem Eintrag dann den entsprechenden Wert. "
   ]
  },
  {
   "cell_type": "code",
   "execution_count": null,
   "id": "2ccacbb3",
   "metadata": {},
   "outputs": [],
   "source": [
    "def visualize(max_iterations, scaling, point_x, point_y):\n",
    "    image = create_image(256, 256)\n",
    "    for i in range(0, 256):\n",
    "        for j in range(0, 256):\n",
    "            c = pixel_to_complex_num(i, j, scaling, point_x, point_y)\n",
    "            n = compute_mandelbrot(c, max_iterations)\n",
    "            image[i][j] = n\n",
    "    return image\n",
    "            "
   ]
  },
  {
   "cell_type": "code",
   "execution_count": null,
   "id": "db329058",
   "metadata": {},
   "outputs": [],
   "source": [
    "image = visualize(25, 0.01, -2,  -1.2)"
   ]
  },
  {
   "cell_type": "code",
   "execution_count": null,
   "id": "b9f85164",
   "metadata": {},
   "outputs": [],
   "source": [
    "imshow(image)\n",
    "axis(\"off\")"
   ]
  },
  {
   "cell_type": "markdown",
   "id": "03dacee2",
   "metadata": {},
   "source": [
    "#### Kamerafahrt\n",
    "\n",
    "Wenn Sie die folgende Zelle ausführen, dann sehen Sie eine \"Kamerafahrt\" welche immer stärker auf einen angegebenen Punkt mit Bildkoordinaten (`zoom_to_x`,`zoom_to_y`) fokusiert und visualisiert wie fein die Strukturen dieses Fraktals auflösen. Sie müssen die Details dieses Codes nicht verstehen. "
   ]
  },
  {
   "cell_type": "code",
   "execution_count": 277,
   "id": "7d95167a",
   "metadata": {},
   "outputs": [
    {
     "ename": "TypeError",
     "evalue": "Complex() takes no arguments",
     "output_type": "error",
     "traceback": [
      "\u001b[1;31m---------------------------------------------------------------------------\u001b[0m",
      "\u001b[1;31mTypeError\u001b[0m                                 Traceback (most recent call last)",
      "\u001b[1;32m~\\AppData\\Local\\Temp/ipykernel_15588/2721725462.py\u001b[0m in \u001b[0;36m<module>\u001b[1;34m\u001b[0m\n\u001b[0;32m      5\u001b[0m \u001b[0mzoom_to_y\u001b[0m \u001b[1;33m=\u001b[0m \u001b[1;36m130\u001b[0m\u001b[1;33m\u001b[0m\u001b[1;33m\u001b[0m\u001b[0m\n\u001b[0;32m      6\u001b[0m \u001b[1;32mwhile\u001b[0m \u001b[0mscaling\u001b[0m \u001b[1;33m>\u001b[0m \u001b[1;36m3e-6\u001b[0m\u001b[1;33m:\u001b[0m\u001b[1;33m\u001b[0m\u001b[1;33m\u001b[0m\u001b[0m\n\u001b[1;32m----> 7\u001b[1;33m     \u001b[0mimage\u001b[0m \u001b[1;33m=\u001b[0m \u001b[0mvisualize\u001b[0m\u001b[1;33m(\u001b[0m\u001b[0mnum_iterations\u001b[0m\u001b[1;33m,\u001b[0m \u001b[0mscaling\u001b[0m\u001b[1;33m,\u001b[0m \u001b[1;33m-\u001b[0m\u001b[1;36m2.0\u001b[0m\u001b[1;33m-\u001b[0m\u001b[0mzoom_to_x\u001b[0m\u001b[1;33m*\u001b[0m\u001b[1;33m(\u001b[0m\u001b[0mscaling\u001b[0m\u001b[1;33m-\u001b[0m\u001b[1;36m0.01\u001b[0m\u001b[1;33m)\u001b[0m\u001b[1;33m,\u001b[0m  \u001b[1;33m-\u001b[0m\u001b[1;36m1.3\u001b[0m\u001b[1;33m-\u001b[0m\u001b[0mzoom_to_y\u001b[0m\u001b[1;33m*\u001b[0m\u001b[1;33m(\u001b[0m\u001b[0mscaling\u001b[0m\u001b[1;33m-\u001b[0m\u001b[1;36m0.01\u001b[0m\u001b[1;33m)\u001b[0m\u001b[1;33m)\u001b[0m\u001b[1;33m\u001b[0m\u001b[1;33m\u001b[0m\u001b[0m\n\u001b[0m\u001b[0;32m      8\u001b[0m     \u001b[0mimshow\u001b[0m\u001b[1;33m(\u001b[0m\u001b[0mimage\u001b[0m\u001b[1;33m)\u001b[0m\u001b[1;33m\u001b[0m\u001b[1;33m\u001b[0m\u001b[0m\n\u001b[0;32m      9\u001b[0m     \u001b[0maxis\u001b[0m\u001b[1;33m(\u001b[0m\u001b[1;34m\"off\"\u001b[0m\u001b[1;33m)\u001b[0m\u001b[1;33m\u001b[0m\u001b[1;33m\u001b[0m\u001b[0m\n",
      "\u001b[1;32m~\\AppData\\Local\\Temp/ipykernel_15588/957741323.py\u001b[0m in \u001b[0;36mvisualize\u001b[1;34m(max_iterations, scaling, point_x, point_y)\u001b[0m\n\u001b[0;32m      3\u001b[0m     \u001b[1;32mfor\u001b[0m \u001b[0mi\u001b[0m \u001b[1;32min\u001b[0m \u001b[0mrange\u001b[0m\u001b[1;33m(\u001b[0m\u001b[1;36m0\u001b[0m\u001b[1;33m,\u001b[0m \u001b[1;36m256\u001b[0m\u001b[1;33m)\u001b[0m\u001b[1;33m:\u001b[0m\u001b[1;33m\u001b[0m\u001b[1;33m\u001b[0m\u001b[0m\n\u001b[0;32m      4\u001b[0m         \u001b[1;32mfor\u001b[0m \u001b[0mj\u001b[0m \u001b[1;32min\u001b[0m \u001b[0mrange\u001b[0m\u001b[1;33m(\u001b[0m\u001b[1;36m0\u001b[0m\u001b[1;33m,\u001b[0m \u001b[1;36m256\u001b[0m\u001b[1;33m)\u001b[0m\u001b[1;33m:\u001b[0m\u001b[1;33m\u001b[0m\u001b[1;33m\u001b[0m\u001b[0m\n\u001b[1;32m----> 5\u001b[1;33m             \u001b[0mc\u001b[0m \u001b[1;33m=\u001b[0m \u001b[0mpixel_to_complex_num\u001b[0m\u001b[1;33m(\u001b[0m\u001b[0mi\u001b[0m\u001b[1;33m,\u001b[0m \u001b[0mj\u001b[0m\u001b[1;33m,\u001b[0m \u001b[0mscaling\u001b[0m\u001b[1;33m,\u001b[0m \u001b[0mpoint_x\u001b[0m\u001b[1;33m,\u001b[0m \u001b[0mpoint_y\u001b[0m\u001b[1;33m)\u001b[0m\u001b[1;33m\u001b[0m\u001b[1;33m\u001b[0m\u001b[0m\n\u001b[0m\u001b[0;32m      6\u001b[0m             \u001b[0mn\u001b[0m \u001b[1;33m=\u001b[0m \u001b[0mcompute_mandelbrot\u001b[0m\u001b[1;33m(\u001b[0m\u001b[0mc\u001b[0m\u001b[1;33m,\u001b[0m \u001b[0mmax_iterations\u001b[0m\u001b[1;33m)\u001b[0m\u001b[1;33m\u001b[0m\u001b[1;33m\u001b[0m\u001b[0m\n\u001b[0;32m      7\u001b[0m             \u001b[0mimage\u001b[0m\u001b[1;33m[\u001b[0m\u001b[0mi\u001b[0m\u001b[1;33m]\u001b[0m\u001b[1;33m[\u001b[0m\u001b[0mj\u001b[0m\u001b[1;33m]\u001b[0m \u001b[1;33m=\u001b[0m \u001b[0mn\u001b[0m\u001b[1;33m\u001b[0m\u001b[1;33m\u001b[0m\u001b[0m\n",
      "\u001b[1;32m~\\AppData\\Local\\Temp/ipykernel_15588/3135666303.py\u001b[0m in \u001b[0;36mpixel_to_complex_num\u001b[1;34m(i, j, scaling, pan_x, pan_y)\u001b[0m\n\u001b[0;32m      1\u001b[0m \u001b[1;32mdef\u001b[0m \u001b[0mpixel_to_complex_num\u001b[0m\u001b[1;33m(\u001b[0m\u001b[0mi\u001b[0m\u001b[1;33m,\u001b[0m \u001b[0mj\u001b[0m\u001b[1;33m,\u001b[0m \u001b[0mscaling\u001b[0m\u001b[1;33m,\u001b[0m \u001b[0mpan_x\u001b[0m\u001b[1;33m,\u001b[0m \u001b[0mpan_y\u001b[0m\u001b[1;33m)\u001b[0m\u001b[1;33m:\u001b[0m\u001b[1;33m\u001b[0m\u001b[1;33m\u001b[0m\u001b[0m\n\u001b[1;32m----> 2\u001b[1;33m     \u001b[1;32mreturn\u001b[0m \u001b[0mComplex\u001b[0m\u001b[1;33m(\u001b[0m\u001b[0mi\u001b[0m \u001b[1;33m*\u001b[0m \u001b[0mscaling\u001b[0m \u001b[1;33m+\u001b[0m \u001b[0mpan_x\u001b[0m\u001b[1;33m,\u001b[0m \u001b[1;33m(\u001b[0m\u001b[0mj\u001b[0m \u001b[1;33m*\u001b[0m \u001b[0mscaling\u001b[0m \u001b[1;33m+\u001b[0m \u001b[0mpan_y\u001b[0m\u001b[1;33m)\u001b[0m\u001b[1;33m)\u001b[0m\u001b[1;33m\u001b[0m\u001b[1;33m\u001b[0m\u001b[0m\n\u001b[0m",
      "\u001b[1;31mTypeError\u001b[0m: Complex() takes no arguments"
     ]
    }
   ],
   "source": [
    "from IPython.display import clear_output    # Steuern der Ausgabe in Jupyter-Notebooks\n",
    "scaling = 0.01\n",
    "num_iterations = 50\n",
    "zoom_to_x = 21\n",
    "zoom_to_y = 130\n",
    "while scaling > 3e-6:\n",
    "    image = visualize(num_iterations, scaling, -2.0-zoom_to_x*(scaling-0.01),  -1.3-zoom_to_y*(scaling-0.01))\n",
    "    imshow(image)\n",
    "    axis(\"off\")\n",
    "    show()\n",
    "    clear_output(wait=True)    \n",
    "    scaling = scaling * 0.8\n",
    "    num_iterations = num_iterations + 1"
   ]
  },
  {
   "cell_type": "code",
   "execution_count": null,
   "id": "723282ae",
   "metadata": {},
   "outputs": [],
   "source": []
  }
 ],
 "metadata": {
  "kernelspec": {
   "display_name": "Python 3 (ipykernel)",
   "language": "python",
   "name": "python3"
  },
  "language_info": {
   "codemirror_mode": {
    "name": "ipython",
    "version": 3
   },
   "file_extension": ".py",
   "mimetype": "text/x-python",
   "name": "python",
   "nbconvert_exporter": "python",
   "pygments_lexer": "ipython3",
   "version": "3.7.4"
  },
  "toc": {
   "base_numbering": 1,
   "nav_menu": {},
   "number_sections": false,
   "sideBar": false,
   "skip_h1_title": false,
   "title_cell": "Table of Contents",
   "title_sidebar": "Contents",
   "toc_cell": false,
   "toc_position": {},
   "toc_section_display": false,
   "toc_window_display": false
  }
 },
 "nbformat": 4,
 "nbformat_minor": 5
}
